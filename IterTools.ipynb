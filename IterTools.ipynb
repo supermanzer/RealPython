{
 "cells": [
  {
   "cell_type": "markdown",
   "metadata": {},
   "source": [
    "# Itertools Walkthrough\n",
    "----\n",
    "This notebook is a walkthrough of the project based tutorial on the itertools Python module.  The tutorial is found [here](https://realpython.com/python-itertools/)."
   ]
  },
  {
   "cell_type": "code",
   "execution_count": 36,
   "metadata": {},
   "outputs": [],
   "source": [
    "from math import sqrt\n",
    "import itertools as it\n",
    "import timeit\n",
    "import pprint\n",
    "PP = pprint.PrettyPrinter(indent=4)"
   ]
  },
  {
   "cell_type": "markdown",
   "metadata": {},
   "source": [
    "## Groupers are tasty fish\n",
    "----"
   ]
  },
  {
   "cell_type": "code",
   "execution_count": 4,
   "metadata": {},
   "outputs": [
    {
     "name": "stdout",
     "output_type": "stream",
     "text": [
      "[(1, 'a'), (2, 'b'), (3, 'c')]\n",
      "[4, 2, 4]\n",
      "[4, 16, 36]\n",
      "[6, 8, 10]\n",
      "[4.123105625617661, 5.385164807134504, 6.708203932499369]\n"
     ]
    }
   ],
   "source": [
    "\n",
    "# Example of low level iterator generators/operators\n",
    "print(list(zip([1, 2, 3],['a', 'b', 'c'])))\n",
    "# Zip iterates through each iterator and returns combined tuples of\n",
    "# ith element in each iteratable object\n",
    "\n",
    "print(list(map(len, ['abcd', 'ef', 'ghit'])))\n",
    "# The map function calls the iter() function on an iterable and\n",
    "# applies the function passed to the value returned by the\n",
    "# next() function\n",
    "print(list(map(lambda x: x**2, [2,4,6])))\n",
    "\n",
    "# Since iterators are iterable, you can combine these functions\n",
    "print(list(map(sum, zip([1,2,3], [5,6,7]))))\n",
    "\n",
    "def hypotenuese(args):\n",
    "    return sqrt(args[0]**2 + args[1]**2)\n",
    "# Testing out map with multiple inputs on a custom function\n",
    "# -- TURNS OUT YOU CAN ONLY PASS A SINGLE ARGUMENT, MAKE IT COUNT\n",
    "print(list(map(hypotenuese, zip([1,2,3],[4,5,6]))))"
   ]
  },
  {
   "cell_type": "code",
   "execution_count": 15,
   "metadata": {},
   "outputs": [],
   "source": [
    "# Iterators use lazy execution which can drastically improve \n",
    "# memory usage and processing speed\n",
    "\n",
    "# Example - bad option first\n",
    "def naive_grouper(inputs, n):\n",
    "    n_groups = len(inputs) // n\n",
    "    return [tuple(inputs[i*n:(i+1)*n] for i in range(n_groups))]\n",
    "\n",
    "# This works fine for small lists (to return tuples) but if you \n",
    "# pass a list of 100 million numbers it will consume roughly\n",
    "# 4.5GB of ram and take 11 seconds.\n",
    "\n",
    "# Let's implement a better solution  - This executes 3-5x as fast and, \n",
    "# due to the use of iter(), consumes ~ 630x less RAM\n",
    "def better_grouper(inputs, n):\n",
    "    iters = [iter(inputs)]*n\n",
    "    return zip(*iters)"
   ]
  },
  {
   "cell_type": "code",
   "execution_count": 11,
   "metadata": {},
   "outputs": [
    {
     "name": "stdout",
     "output_type": "stream",
     "text": [
      "25.550513171001512\n"
     ]
    }
   ],
   "source": [
    "# Timing the execution of this code.  This is going to take a while.\n",
    "# Since timeit will execute this code 1M times, we'll keep this short\n",
    "TEST_CODE = \"\"\"\n",
    "for _ in naive_grouper(range(1000), 10):\n",
    "  pass\n",
    "\"\"\"\n",
    "print(timeit.timeit(stmt=TEST_CODE, globals=globals()))"
   ]
  },
  {
   "cell_type": "code",
   "execution_count": 17,
   "metadata": {},
   "outputs": [
    {
     "name": "stdout",
     "output_type": "stream",
     "text": [
      "9.42678318400067\n"
     ]
    }
   ],
   "source": [
    "# Timing the execution of our improved method\n",
    "TEST_CODE = \"\"\"\n",
    "for _ in better_grouper(range(1000), 10):\n",
    "    pass\n",
    "\"\"\"\n",
    "print(timeit.timeit(stmt=TEST_CODE, globals=globals()))"
   ]
  },
  {
   "cell_type": "code",
   "execution_count": 23,
   "metadata": {},
   "outputs": [
    {
     "name": "stdout",
     "output_type": "stream",
     "text": [
      "[([1, 2], [3, 4], [5, 6], [7, 8], [9, 10])]\n",
      "[(1, 2), (3, 4), (5, 6), (7, 8), (9, 10)]\n"
     ]
    }
   ],
   "source": [
    "print(naive_grouper([1,2,3,4,5,6, 7,8,9,10],2))\n",
    "print(list(better_grouper([1,2,3,4,5,6, 7, 8, 9, 10], 2)))"
   ]
  },
  {
   "cell_type": "code",
   "execution_count": 31,
   "metadata": {},
   "outputs": [
    {
     "name": "stdout",
     "output_type": "stream",
     "text": [
      "Better Grouper Output, still lacking:\n",
      " [(1, 2, 3), (4, 5, 6), (7, 8, 9)]\n",
      "Betterest Grouper can handle this:\n",
      " [(1, 2, 3), (4, 5, 6), (7, 8, 9), (10, None, None)]\n"
     ]
    }
   ],
   "source": [
    "# better_grouper could still be ...well, better.\n",
    "# It doesn't had cases where the number of elements is not\n",
    "# a multiple of the grouping number, e.g.\n",
    "print(\"Better Grouper Output, still lacking:\\n\",\n",
    "      list(better_grouper([1,2,3,4,5,6, 7, 8, 9, 10], 3)))\n",
    "\n",
    "# let's see if we can improve on that. We can use the itertools function\n",
    "# zip_longest().  This will take any number of iterables PLUS a fill\n",
    "# value that defaults to None\n",
    "def betterest_grouper(inputs, n, fillvalue=None):\n",
    "    iters = [iter(inputs)]*n\n",
    "    return it.zip_longest(*iters, fillvalue=fillvalue)\n",
    "\n",
    "# Now let's try that again\n",
    "print(\"Betterest Grouper can handle this:\\n\",\n",
    "      list(betterest_grouper([1,2,3,4,5,6, 7, 8, 9, 10], 3)))"
   ]
  },
  {
   "cell_type": "markdown",
   "metadata": {},
   "source": [
    "### Brute Force seems rude\n",
    "---"
   ]
  },
  {
   "cell_type": "code",
   "execution_count": 38,
   "metadata": {},
   "outputs": [
    {
     "name": "stdout",
     "output_type": "stream",
     "text": [
      "{   (20, 20, 10, 10, 10, 10, 10, 5, 1, 1, 1, 1, 1),\n",
      "    (20, 20, 10, 10, 10, 10, 10, 5, 5),\n",
      "    (20, 20, 20, 10, 10, 10, 5, 1, 1, 1, 1, 1),\n",
      "    (20, 20, 20, 10, 10, 10, 5, 5),\n",
      "    (20, 20, 20, 10, 10, 10, 10)}\n"
     ]
    }
   ],
   "source": [
    "# Interview question:  You have three $20 bills, five $10 bills,\n",
    "# two $5 bills, and five $1 bills. How many ways can you make change\n",
    "# for a $100 bill?\n",
    "\n",
    "# Basic brute force approach.  Iterate through all the possible\n",
    "# combinations of bills in your wallet and check if they add up\n",
    "# to $100\n",
    "bills = [20, 20, 20, 10, 10, 10, 10, 10, 5, 5, 1, 1, 1, 1, 1]\n",
    "# A choice of k things from a set of n things is called a combination\n",
    "# itertools has a function for that: itertools.combinations(set, n)\n",
    "\n",
    "# Let's see all the different combinations of 3 bills we could make\n",
    "list(it.combinations(bills, 3))\n",
    "\n",
    "# Nifty but not really helpful, yet. We can add an incrementor for\n",
    "# bumping up the number of bills in our combination and a check to\n",
    "# see if it makes 100 to validate our combinations against the \n",
    "# original constraint\n",
    "makes_100=[]\n",
    "# remember Python starts at 0 but we know 0 bills won't solve the problem\n",
    "for n in range(1,len(bills)+1):\n",
    "    for combo in it.combinations(bills, n):\n",
    "        if sum(combo) == 100:\n",
    "            makes_100.append(combo)\n",
    "            \n",
    "# We use set() to make sure our combos are unique\n",
    "PP.pprint(set(makes_100))\n",
    "\n"
   ]
  },
  {
   "cell_type": "code",
   "execution_count": null,
   "metadata": {},
   "outputs": [],
   "source": []
  }
 ],
 "metadata": {
  "kernelspec": {
   "display_name": "Python 3",
   "language": "python",
   "name": "python3"
  },
  "language_info": {
   "codemirror_mode": {
    "name": "ipython",
    "version": 3
   },
   "file_extension": ".py",
   "mimetype": "text/x-python",
   "name": "python",
   "nbconvert_exporter": "python",
   "pygments_lexer": "ipython3",
   "version": "3.7.2"
  }
 },
 "nbformat": 4,
 "nbformat_minor": 2
}
