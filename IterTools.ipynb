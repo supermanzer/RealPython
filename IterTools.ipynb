{
 "cells": [
  {
   "cell_type": "markdown",
   "metadata": {},
   "source": [
    "# Itertools Walkthrough\n",
    "----\n",
    "This notebook is a walkthrough of the project based tutorial on the itertools Python module.  The tutorial is found [here](https://realpython.com/python-itertools/)."
   ]
  },
  {
   "cell_type": "code",
   "execution_count": 12,
   "metadata": {},
   "outputs": [],
   "source": [
    "from math import sqrt\n",
    "import itertools"
   ]
  },
  {
   "cell_type": "code",
   "execution_count": 13,
   "metadata": {},
   "outputs": [
    {
     "name": "stdout",
     "output_type": "stream",
     "text": [
      "[(1, 'a'), (2, 'b'), (3, 'c')]\n",
      "[4, 2, 4]\n",
      "[4, 16, 36]\n",
      "[6, 8, 10]\n",
      "[4.123105625617661, 5.385164807134504, 6.708203932499369]\n"
     ]
    }
   ],
   "source": [
    "\n",
    "# Example of low level iterator generators/operators\n",
    "print(list(zip([1, 2, 3],['a', 'b', 'c'])))\n",
    "# Zip iterates through each iterator and returns combined tuples of\n",
    "# ith element in each iteratable object\n",
    "\n",
    "print(list(map(len, ['abcd', 'ef', 'ghit'])))\n",
    "# The map function calls the iter() function on an iterable and\n",
    "# applies the function passed to the value returned by the\n",
    "# next() function\n",
    "print(list(map(lambda x: x**2, [2,4,6])))\n",
    "\n",
    "# Since iterators are iterable, you can combine these functions\n",
    "print(list(map(sum, zip([1,2,3], [5,6,7]))))\n",
    "\n",
    "def hypotenuese(args):\n",
    "    return sqrt(args[0]**2 + args[1]**2)\n",
    "# Testing out map with multiple inputs on a custom function\n",
    "# -- TURNS OUT YOU CAN ONLY PASS A SINGLE ARGUMENT, MAKE IT COUNT\n",
    "print(list(map(hypotenuese, zip([1,2,3],[4,5,6]))))"
   ]
  },
  {
   "cell_type": "code",
   "execution_count": null,
   "metadata": {},
   "outputs": [],
   "source": [
    "# Iterators use lazy execution which can drastically improve \n",
    "# memory usage and processing speed\n",
    "\n",
    "# Example - bad option first\n",
    "naive_grouper(inputs, n):\n",
    "    n_groups = len(inputs) // n\n",
    "    return [tuple(inuts[i*n:(i+1)*n] for i in range(n_groups))]\n",
    "\n",
    "# This works fine for small lists (to return tuples) but if you \n",
    "# pass a list of 100 million numbers it will consume roughly\n",
    "# 4.5GB of ram and take 11 seconds.\n"
   ]
  }
 ],
 "metadata": {
  "kernelspec": {
   "display_name": "Python 3",
   "language": "python",
   "name": "python3"
  },
  "language_info": {
   "codemirror_mode": {
    "name": "ipython",
    "version": 3
   },
   "file_extension": ".py",
   "mimetype": "text/x-python",
   "name": "python",
   "nbconvert_exporter": "python",
   "pygments_lexer": "ipython3",
   "version": "3.7.2"
  }
 },
 "nbformat": 4,
 "nbformat_minor": 2
}
