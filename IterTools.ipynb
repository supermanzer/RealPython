{
 "cells": [
  {
   "cell_type": "markdown",
   "metadata": {},
   "source": [
    "# Itertools Walkthrough\n",
    "----\n",
    "This notebook is a walkthrough of the project based tutorial on the itertools Python module.  The tutorial is found [here](https://realpython.com/python-itertools/)."
   ]
  },
  {
   "cell_type": "code",
   "execution_count": 31,
   "metadata": {},
   "outputs": [],
   "source": [
    "from math import sqrt\n",
    "import itertools as it\n",
    "import operator\n",
    "import timeit\n",
    "import pprint\n",
    "PP = pprint.PrettyPrinter(indent=4)"
   ]
  },
  {
   "cell_type": "markdown",
   "metadata": {},
   "source": [
    "## Groupers are tasty fish\n",
    "----"
   ]
  },
  {
   "cell_type": "code",
   "execution_count": 3,
   "metadata": {},
   "outputs": [
    {
     "name": "stdout",
     "output_type": "stream",
     "text": [
      "[(1, 'a'), (2, 'b'), (3, 'c')]\n",
      "[4, 2, 4]\n",
      "[4, 16, 36]\n",
      "[6, 8, 10]\n",
      "[4.123105625617661, 5.385164807134504, 6.708203932499369]\n"
     ]
    }
   ],
   "source": [
    "\n",
    "# Example of low level iterator generators/operators\n",
    "print(list(zip([1, 2, 3],['a', 'b', 'c'])))\n",
    "# Zip iterates through each iterator and returns combined tuples of\n",
    "# ith element in each iteratable object\n",
    "\n",
    "print(list(map(len, ['abcd', 'ef', 'ghit'])))\n",
    "# The map function calls the iter() function on an iterable and\n",
    "# applies the function passed to the value returned by the\n",
    "# next() function\n",
    "print(list(map(lambda x: x**2, [2,4,6])))\n",
    "\n",
    "# Since iterators are iterable, you can combine these functions\n",
    "print(list(map(sum, zip([1,2,3], [5,6,7]))))\n",
    "\n",
    "def hypotenuese(args):\n",
    "    return sqrt(args[0]**2 + args[1]**2)\n",
    "# Testing out map with multiple inputs on a custom function\n",
    "# -- TURNS OUT YOU CAN ONLY PASS A SINGLE ARGUMENT, MAKE IT COUNT\n",
    "print(list(map(hypotenuese, zip([1,2,3],[4,5,6]))))"
   ]
  },
  {
   "cell_type": "code",
   "execution_count": 4,
   "metadata": {},
   "outputs": [],
   "source": [
    "# Iterators use lazy execution which can drastically improve \n",
    "# memory usage and processing speed\n",
    "\n",
    "# Example - bad option first\n",
    "def naive_grouper(inputs, n):\n",
    "    n_groups = len(inputs) // n\n",
    "    return [tuple(inputs[i*n:(i+1)*n] for i in range(n_groups))]\n",
    "\n",
    "# This works fine for small lists (to return tuples) but if you \n",
    "# pass a list of 100 million numbers it will consume roughly\n",
    "# 4.5GB of ram and take 11 seconds.\n",
    "\n",
    "# Let's implement a better solution  - This executes 3-5x as fast and, \n",
    "# due to the use of iter(), consumes ~ 630x less RAM\n",
    "def better_grouper(inputs, n):\n",
    "    iters = [iter(inputs)]*n\n",
    "    return zip(*iters)"
   ]
  },
  {
   "cell_type": "code",
   "execution_count": 5,
   "metadata": {},
   "outputs": [
    {
     "name": "stdout",
     "output_type": "stream",
     "text": [
      "44.160402647998126\n"
     ]
    }
   ],
   "source": [
    "# Timing the execution of this code.  This is going to take a while.\n",
    "# Since timeit will execute this code 1M times, we'll keep this short\n",
    "TEST_CODE = \"\"\"\n",
    "for _ in naive_grouper(range(1000), 10):\n",
    "  pass\n",
    "\"\"\"\n",
    "print(timeit.timeit(stmt=TEST_CODE, globals=globals()))"
   ]
  },
  {
   "cell_type": "code",
   "execution_count": 6,
   "metadata": {},
   "outputs": [
    {
     "name": "stdout",
     "output_type": "stream",
     "text": [
      "19.108165507001104\n"
     ]
    }
   ],
   "source": [
    "# Timing the execution of our improved method\n",
    "TEST_CODE = \"\"\"\n",
    "for _ in better_grouper(range(1000), 10):\n",
    "    pass\n",
    "\"\"\"\n",
    "print(timeit.timeit(stmt=TEST_CODE, globals=globals()))"
   ]
  },
  {
   "cell_type": "code",
   "execution_count": 7,
   "metadata": {},
   "outputs": [
    {
     "name": "stdout",
     "output_type": "stream",
     "text": [
      "[([1, 2], [3, 4], [5, 6], [7, 8], [9, 10])]\n",
      "[(1, 2), (3, 4), (5, 6), (7, 8), (9, 10)]\n"
     ]
    }
   ],
   "source": [
    "print(naive_grouper([1,2,3,4,5,6, 7,8,9,10],2))\n",
    "print(list(better_grouper([1,2,3,4,5,6, 7, 8, 9, 10], 2)))"
   ]
  },
  {
   "cell_type": "code",
   "execution_count": 8,
   "metadata": {},
   "outputs": [
    {
     "name": "stdout",
     "output_type": "stream",
     "text": [
      "Better Grouper Output, still lacking:\n",
      " [(1, 2, 3), (4, 5, 6), (7, 8, 9)]\n",
      "Betterest Grouper can handle this:\n",
      " [(1, 2, 3), (4, 5, 6), (7, 8, 9), (10, None, None)]\n"
     ]
    }
   ],
   "source": [
    "# better_grouper could still be ...well, better.\n",
    "# It doesn't had cases where the number of elements is not\n",
    "# a multiple of the grouping number, e.g.\n",
    "print(\"Better Grouper Output, still lacking:\\n\",\n",
    "      list(better_grouper([1,2,3,4,5,6, 7, 8, 9, 10], 3)))\n",
    "\n",
    "# let's see if we can improve on that. We can use the itertools function\n",
    "# zip_longest().  This will take any number of iterables PLUS a fill\n",
    "# value that defaults to None\n",
    "def betterest_grouper(inputs, n, fillvalue=None):\n",
    "    iters = [iter(inputs)]*n\n",
    "    return it.zip_longest(*iters, fillvalue=fillvalue)\n",
    "\n",
    "# Now let's try that again\n",
    "print(\"Betterest Grouper can handle this:\\n\",\n",
    "      list(betterest_grouper([1,2,3,4,5,6, 7, 8, 9, 10], 3)))"
   ]
  },
  {
   "cell_type": "markdown",
   "metadata": {},
   "source": [
    "### Brute Force seems rude\n",
    "---"
   ]
  },
  {
   "cell_type": "code",
   "execution_count": 11,
   "metadata": {},
   "outputs": [
    {
     "name": "stdout",
     "output_type": "stream",
     "text": [
      "{   (20, 20, 10, 10, 10, 10, 10, 5, 1, 1, 1, 1, 1),\n",
      "    (20, 20, 10, 10, 10, 10, 10, 5, 5),\n",
      "    (20, 20, 20, 10, 10, 10, 5, 1, 1, 1, 1, 1),\n",
      "    (20, 20, 20, 10, 10, 10, 5, 5),\n",
      "    (20, 20, 20, 10, 10, 10, 10)}\n",
      "<itertools.permutations object at 0x109747fc0>\n"
     ]
    }
   ],
   "source": [
    "# Interview question:  You have three $20 bills, five $10 bills,\n",
    "# two $5 bills, and five $1 bills. How many ways can you make change\n",
    "# for a $100 bill?\n",
    "\n",
    "# Basic brute force approach.  Iterate through all the possible\n",
    "# combinations of bills in your wallet and check if they add up\n",
    "# to $100\n",
    "bills = [20, 20, 20, 10, 10, 10, 10, 10, 5, 5, 1, 1, 1, 1, 1]\n",
    "# A choice of k things from a set of n things is called a combination\n",
    "# itertools has a function for that: itertools.combinations(set, n)\n",
    "\n",
    "# Let's see all the different combinations of 3 bills we could make\n",
    "list(it.combinations(bills, 3))\n",
    "\n",
    "# Nifty but not really helpful, yet. We can add an incrementor for\n",
    "# bumping up the number of bills in our combination and a check to\n",
    "# see if it makes 100 to validate our combinations against the \n",
    "# original constraint\n",
    "makes_100=[]\n",
    "# remember Python starts at 0 but we know 0 bills won't solve the problem\n",
    "for n in range(1,len(bills)+1):\n",
    "    for combo in it.combinations(bills, n):\n",
    "        if sum(combo) == 100:\n",
    "            makes_100.append(combo)\n",
    "            \n",
    "# We use set() to make sure our combos are unique\n",
    "PP.pprint(set(makes_100))  # And we get 5 unique combinations of bills\n",
    "\n",
    "# Okay now let's flip this script just a bit.  Try the following question:\n",
    "# \"How many ways are there to make change for a $100 bill using any number\n",
    "#  of $50, $20, $10, $5, and $1 bills?\"\n",
    "\n",
    "# We don't have a pre-set collection of bills this time so we need to\n",
    "# generate all possible combinations with any number of the specified bills.\n",
    "# Thankfully, itertools has combinations_with_replacement(). We just need\n",
    "# to use an iterator that has all possible bill denominations and then \n",
    "# loop over all potential numbers of bills we might use.\n",
    "bills = [50, 20, 10, 5, 1]  # Generating a list of all denominations we can use.\n",
    "makes_100 = []\n",
    "for n in range(1, 101):\n",
    "    for combo in it.combinations_with_replacement(bills, n):\n",
    "        if sum(combo) == 100:\n",
    "            makes_100.append(combo)\n",
    "            \n",
    "# PP.pprint(set(makes_100))\n",
    "# Brute force algorithms can be pretty .... brutal.  The number of outputs\n",
    "# increases exponentially (factorially actually) with increase in inputs.\n",
    "# But sometimes you need to consider every possible combination and in\n",
    "# those cases, itertools has some useful functions.\n",
    "\n",
    "# Making all possible combinations:\n",
    "print(it.permutations(['a', 'b', 'c', 'd']))"
   ]
  },
  {
   "cell_type": "code",
   "execution_count": 22,
   "metadata": {},
   "outputs": [
    {
     "name": "stdout",
     "output_type": "stream",
     "text": [
      "[1, 3, 5, 7, 9, 11, 13, 15, 17, 19]\n",
      "[0, 2, 4, 6, 8, 10, 12, 14, 16, 18]\n"
     ]
    }
   ],
   "source": [
    "# Numerical Sequences - Some nifty tricks\n",
    "\n",
    "# First example - Evens and Odds, how to do it without arithmetic.\n",
    "# We start by looking at arithmetic solutions\n",
    "\n",
    "def evens():\n",
    "    n = 0\n",
    "    while True:\n",
    "        yield n\n",
    "        n += 2\n",
    "\n",
    "def odds():\n",
    "    n = 1\n",
    "    while True:\n",
    "        yield n\n",
    "        n += 2\n",
    "\n",
    "evens = evens()\n",
    "odds = odds()\n",
    "\n",
    "print(list(next(odds) for _ in range(10)))\n",
    "print(list(next(evens) for _ in range (10)))"
   ]
  },
  {
   "cell_type": "code",
   "execution_count": 29,
   "metadata": {},
   "outputs": [
    {
     "name": "stdout",
     "output_type": "stream",
     "text": [
      "[0, 1, 2, 3, 4, 5, 6, 7, 8, 9]\n",
      "[1, 3, 5, 7, 9, 11, 13, 15, 17, 19]\n",
      "[0, 2, 4, 6, 8, 10, 12, 14, 16, 18]\n",
      "21\n",
      "[(0, 'a'), (1, 'b'), (2, 'c'), (3, 'd')]\n"
     ]
    }
   ],
   "source": [
    "# This works but itertools can make your code more simple and compact.\n",
    "# We will start with itertools.count()\n",
    "counter = it.count()\n",
    "print(list(next(counter) for _ in range(10)))\n",
    "\n",
    "evens = it.count(step=2)\n",
    "odds = it.count(start=1, step=2)\n",
    "print(list(next(odds) for _ in range(10)))\n",
    "print(list(next(evens) for _ in range (10)))\n",
    "\n",
    "# While this may seem like more code for the same basic functionality as a\n",
    "# range() command, the isntantiated counter retains it's position (e.g.)\n",
    "print(next(odds))\n",
    "# AND it is an infinite iterator, meaning you do not need to know how many \n",
    "# times you need to iterate through it beforehand.\n",
    "# Example:\n",
    "print(list(zip(it.count(), ['a', 'b', 'c', 'd'])))"
   ]
  },
  {
   "cell_type": "code",
   "execution_count": 34,
   "metadata": {},
   "outputs": [
    {
     "name": "stdout",
     "output_type": "stream",
     "text": [
      "[0, 3, 6, 9, 12]\n",
      "[0, 4, 8, 12, 16]\n"
     ]
    },
    {
     "data": {
      "text/plain": [
       "[1,\n",
       " 3.0,\n",
       " 14.696938456699069,\n",
       " 349.5755076535926,\n",
       " 2367401.0363475108,\n",
       " 1.3268407533751489e+19]"
      ]
     },
     "execution_count": 34,
     "metadata": {},
     "output_type": "execute_result"
    }
   ],
   "source": [
    "# RECURRENCE RELATIONS - These decribe a sequence of numbers with a recursive\n",
    "#                        formula (e.g. Fibonacci sequence)\n",
    "# Fn = Fn-1 + Fn-2; F0 =0, F1=1\n",
    "# These types of relations are often built with generators (e.g.)\n",
    "def fibs():\n",
    "    a, b = 0, 1\n",
    "    while True:\n",
    "        yield a\n",
    "        a, b = b, a + b\n",
    "# This is a \"second order\" sequence because you need to look back 2 steps to\n",
    "# get the next number\n",
    "# Our previous evens and odds are \"first order\" recursive sequences because we\n",
    "# only need to look back 1 step and include a constant.\n",
    "\n",
    "# More first order examples\n",
    "count_by_three = it.count(step=3)\n",
    "count_by_four = it.count(step=4)\n",
    "# Let's take a look\n",
    "print(list(next(count_by_three) for _ in range (5)))\n",
    "print(list(next(count_by_four) for _ in range(5)))\n",
    "\n",
    "# There are many ways to build these out, tweaking steps, stopping points\n",
    "# and alternating values.  But let's use the accumulate() function to\n",
    "# allow us to build any sort of first order sequence\n",
    "\n",
    "# ACCUMULATE REQUIRES THE FUNCTION PASSED IN IS BINARY, ACCEPTS 2 ARGS.\n",
    "\n",
    "# Example of how accumulate works\n",
    "list(it.accumulate([1,2,3,4,5], operator.add))\n",
    "# You can pass more complex functions to accumulate using lambdas\n",
    "list(it.accumulate([1,2,3,4,5,6], lambda x,y: sqrt((y+x)**y)))"
   ]
  },
  {
   "cell_type": "code",
   "execution_count": null,
   "metadata": {},
   "outputs": [],
   "source": []
  },
  {
   "cell_type": "code",
   "execution_count": null,
   "metadata": {},
   "outputs": [],
   "source": []
  }
 ],
 "metadata": {
  "kernelspec": {
   "display_name": "Python [default]",
   "language": "python",
   "name": "python3"
  },
  "language_info": {
   "codemirror_mode": {
    "name": "ipython",
    "version": 3
   },
   "file_extension": ".py",
   "mimetype": "text/x-python",
   "name": "python",
   "nbconvert_exporter": "python",
   "pygments_lexer": "ipython3",
   "version": "3.6.8"
  }
 },
 "nbformat": 4,
 "nbformat_minor": 2
}
